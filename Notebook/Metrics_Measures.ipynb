{
 "cells": [
  {
   "cell_type": "code",
   "execution_count": 180,
   "metadata": {},
   "outputs": [],
   "source": [
    "import pandas as pd\n",
    "import numpy as np"
   ]
  },
  {
   "cell_type": "code",
   "execution_count": 181,
   "metadata": {},
   "outputs": [],
   "source": [
    "# datasets\n",
    "df1 = pd.read_csv('Dataset/dim_date.csv')\n",
    "df2 = pd.read_csv('Dataset/dim_hotels.csv')\n",
    "df3 = pd.read_csv('Dataset/dim_rooms.csv')\n",
    "df4 = pd.read_csv('Dataset/fact_aggregated_bookings.csv')\n",
    "df5 = pd.read_csv('Dataset/fact_bookings.csv')\n"
   ]
  },
  {
   "cell_type": "code",
   "execution_count": 182,
   "metadata": {},
   "outputs": [
    {
     "data": {
      "text/plain": [
       "Index(['date', 'mmm yy', 'week no', 'day_type'], dtype='object')"
      ]
     },
     "execution_count": 182,
     "metadata": {},
     "output_type": "execute_result"
    }
   ],
   "source": [
    "df1.columns"
   ]
  },
  {
   "cell_type": "code",
   "execution_count": 183,
   "metadata": {},
   "outputs": [
    {
     "data": {
      "text/plain": [
       "Index(['property_id', 'property_name', 'category', 'city'], dtype='object')"
      ]
     },
     "execution_count": 183,
     "metadata": {},
     "output_type": "execute_result"
    }
   ],
   "source": [
    "df2.columns"
   ]
  },
  {
   "cell_type": "code",
   "execution_count": 184,
   "metadata": {},
   "outputs": [
    {
     "data": {
      "text/plain": [
       "Index(['room_category', 'room_class'], dtype='object')"
      ]
     },
     "execution_count": 184,
     "metadata": {},
     "output_type": "execute_result"
    }
   ],
   "source": [
    "df3.columns"
   ]
  },
  {
   "cell_type": "code",
   "execution_count": 185,
   "metadata": {},
   "outputs": [
    {
     "data": {
      "text/plain": [
       "Index(['property_id', 'check_in_date', 'room_category', 'successful_bookings',\n",
       "       'capacity'],\n",
       "      dtype='object')"
      ]
     },
     "execution_count": 185,
     "metadata": {},
     "output_type": "execute_result"
    }
   ],
   "source": [
    "df4.columns"
   ]
  },
  {
   "cell_type": "code",
   "execution_count": 186,
   "metadata": {},
   "outputs": [
    {
     "data": {
      "text/plain": [
       "Index(['booking_id', 'property_id', 'booking_date', 'check_in_date',\n",
       "       'checkout_date', 'no_guests', 'room_category', 'booking_platform',\n",
       "       'ratings_given', 'booking_status', 'revenue_generated',\n",
       "       'revenue_realized'],\n",
       "      dtype='object')"
      ]
     },
     "execution_count": 186,
     "metadata": {},
     "output_type": "execute_result"
    }
   ],
   "source": [
    "df5.columns"
   ]
  },
  {
   "attachments": {},
   "cell_type": "markdown",
   "metadata": {},
   "source": [
    "# datasets\n",
    "df1 = pd.read_csv('Dataset/dim_date.csv')\n",
    "df2 = pd.read_csv('Dataset/dim_hotels.csv')\n",
    "df3 = pd.read_csv('Dataset/dim_rooms.csv')\n",
    "df4 = pd.read_csv('Dataset/fact_aggregated_bookings.csv')\n",
    "df5 = pd.read_csv('Dataset/fact_bookings.csv')\n",
    "\n",
    "df1.coloumns =Index(['date', 'mmm yy', 'week no', 'day_type'], dtype='object')\n",
    "df2.coloumns = Index(['property_id', 'property_name', 'category', 'city'], dtype='object')\n",
    "df3.coloumns = Index(['room_category', 'room_class'], dtype='object')\n",
    "df4.coloumns = Index(['property_id', 'check_in_date', 'room_category', 'successful_bookings',\n",
    "       'capacity', 'occupancy_rate', 'ADR', 'RevPAR'],\n",
    "      dtype='object')\n",
    "df5.coloumns = Index(['booking_id', 'property_id', 'booking_date', 'check_in_date',\n",
    "       'checkout_date', 'no_guests', 'room_category', 'booking_platform',\n",
    "       'ratings_given', 'booking_status', 'revenue_generated',\n",
    "       'revenue_realized', 'week_no'],\n",
    "      dtype='object')"
   ]
  },
  {
   "attachments": {},
   "cell_type": "markdown",
   "metadata": {},
   "source": [
    "#### To get the total revenue_realized"
   ]
  },
  {
   "cell_type": "code",
   "execution_count": 187,
   "metadata": {},
   "outputs": [
    {
     "data": {
      "text/plain": [
       "1708771229"
      ]
     },
     "execution_count": 187,
     "metadata": {},
     "output_type": "execute_result"
    }
   ],
   "source": [
    "# calculate the sum of the revenue_realized column\n",
    "revenue_sum = df5['revenue_realized'].sum()\n",
    "revenue_sum"
   ]
  },
  {
   "cell_type": "code",
   "execution_count": 188,
   "metadata": {},
   "outputs": [
    {
     "name": "stdout",
     "output_type": "stream",
     "text": [
      "one crore, seventy lakh, eighty-seven thousand, seven hundred and twelve euro, twenty-nine cents\n"
     ]
    }
   ],
   "source": [
    "from num2words import num2words\n",
    "\n",
    "amount = 1708771229\n",
    "amount_in_words = num2words(amount, to='currency', lang='en_IN')\n",
    "\n",
    "print(amount_in_words)"
   ]
  },
  {
   "attachments": {},
   "cell_type": "markdown",
   "metadata": {},
   "source": [
    "### To get the total number of bookings happened"
   ]
  },
  {
   "cell_type": "code",
   "execution_count": 189,
   "metadata": {},
   "outputs": [
    {
     "name": "stdout",
     "output_type": "stream",
     "text": [
      "Total Bookings: 134590\n"
     ]
    }
   ],
   "source": [
    "# Count the number of unique booking IDs\n",
    "total_bookings = df5[\"booking_id\"].nunique()\n",
    "\n",
    "# Print the total number of bookings\n",
    "print(\"Total Bookings:\", total_bookings)"
   ]
  },
  {
   "attachments": {},
   "cell_type": "markdown",
   "metadata": {},
   "source": [
    "### To get the total capacity of rooms present in hotels"
   ]
  },
  {
   "cell_type": "code",
   "execution_count": 190,
   "metadata": {},
   "outputs": [
    {
     "name": "stdout",
     "output_type": "stream",
     "text": [
      "Total Capacity: 232576\n"
     ]
    }
   ],
   "source": [
    "# Sum up the capacity column\n",
    "total_capacity = df4[\"capacity\"].sum()\n",
    "\n",
    "# Print the total capacity\n",
    "print(\"Total Capacity:\", total_capacity)"
   ]
  },
  {
   "attachments": {},
   "cell_type": "markdown",
   "metadata": {},
   "source": [
    "### To get the total succesful bookings happened for all hotels"
   ]
  },
  {
   "cell_type": "code",
   "execution_count": 191,
   "metadata": {},
   "outputs": [
    {
     "name": "stdout",
     "output_type": "stream",
     "text": [
      "Total Successful Bookings: 134590\n"
     ]
    }
   ],
   "source": [
    "total_successful_bookings = df4[\"successful_bookings\"].sum()\n",
    "\n",
    "# Print the total successful bookings\n",
    "print(\"Total Successful Bookings:\", total_successful_bookings)"
   ]
  },
  {
   "attachments": {},
   "cell_type": "markdown",
   "metadata": {},
   "source": [
    "### Occupancy means total successful bookings happened to the total rooms available(capacity)"
   ]
  },
  {
   "cell_type": "code",
   "execution_count": 192,
   "metadata": {},
   "outputs": [
    {
     "name": "stdout",
     "output_type": "stream",
     "text": [
      "Occupancy %: 57.87 %\n"
     ]
    }
   ],
   "source": [
    "# Calculate the occupancy percentage\n",
    "occupancy_percentage = total_successful_bookings / total_capacity * 100\n",
    "\n",
    "# Round off the occupancy percentage to 2 decimal places\n",
    "occupancy_percentage = round(occupancy_percentage, 2)\n",
    "\n",
    "# Print the occupancy percentage\n",
    "print(\"Occupancy %:\", occupancy_percentage, \"%\")"
   ]
  },
  {
   "attachments": {},
   "cell_type": "markdown",
   "metadata": {},
   "source": [
    "### Get the average ratings given by the customers"
   ]
  },
  {
   "cell_type": "code",
   "execution_count": 193,
   "metadata": {},
   "outputs": [
    {
     "name": "stdout",
     "output_type": "stream",
     "text": [
      "Average Rating :  3.62\n"
     ]
    }
   ],
   "source": [
    "# Average Rating = AVERAGE(fact_bookings[ratings_given])\n",
    "\n",
    "average_rating  = df5['ratings_given'].mean()\n",
    "\n",
    "average_rating = round(average_rating,2)\n",
    "\n",
    "# print average ratings\n",
    "print(\"Average Rating : \", average_rating)\n",
    "\n"
   ]
  },
  {
   "attachments": {},
   "cell_type": "markdown",
   "metadata": {},
   "source": [
    "#### To get the total number of days present in the data.In our case, we have data from May to July. So 92 days.\n"
   ]
  },
  {
   "cell_type": "code",
   "execution_count": 194,
   "metadata": {},
   "outputs": [
    {
     "name": "stdout",
     "output_type": "stream",
     "text": [
      "No of days: 92\n"
     ]
    }
   ],
   "source": [
    "# Convert the \"date\" column to datetime\n",
    "df1[\"date\"] = pd.to_datetime(df1[\"date\"])\n",
    "\n",
    "# Calculate the minimum and maximum dates present in the data\n",
    "min_date = df1[\"date\"].min()\n",
    "max_date = df1[\"date\"].max()\n",
    "\n",
    "# Calculate the number of days between the minimum and maximum dates\n",
    "no_of_days = (max_date - min_date).days + 1\n",
    "\n",
    "# Print the number of days\n",
    "print(\"No of days:\", no_of_days)"
   ]
  },
  {
   "attachments": {},
   "cell_type": "markdown",
   "metadata": {},
   "source": [
    "#### To get the\"Cancelled\" bookings out of all Total bookings happened"
   ]
  },
  {
   "cell_type": "code",
   "execution_count": 195,
   "metadata": {},
   "outputs": [
    {
     "name": "stdout",
     "output_type": "stream",
     "text": [
      "Total cancelled bookings: 33420\n"
     ]
    }
   ],
   "source": [
    "\n",
    "# Calculate the total number of cancelled bookings\n",
    "total_cancelled_bookings = df5[df5[\"booking_status\"] == \"Cancelled\"][\"booking_id\"].count()\n",
    "\n",
    "# Print the total number of cancelled bookings\n",
    "print(\"Total cancelled bookings:\", total_cancelled_bookings)"
   ]
  },
  {
   "attachments": {},
   "cell_type": "markdown",
   "metadata": {},
   "source": [
    "#### \"calculating the cancellaton percentage.\""
   ]
  },
  {
   "cell_type": "code",
   "execution_count": 196,
   "metadata": {},
   "outputs": [
    {
     "name": "stdout",
     "output_type": "stream",
     "text": [
      "Cancelleation % :  24.83\n"
     ]
    }
   ],
   "source": [
    "Cancellation_perc = total_cancelled_bookings / total_bookings * 100\n",
    "Cancellation_perc = round(Cancellation_perc, 2)\n",
    "\n",
    "print(\"Cancelleation % : \", Cancellation_perc)"
   ]
  },
  {
   "attachments": {},
   "cell_type": "markdown",
   "metadata": {},
   "source": [
    "#### To get the successful 'Checked out' bookings out of all Total bookings happened"
   ]
  },
  {
   "cell_type": "code",
   "execution_count": 197,
   "metadata": {},
   "outputs": [
    {
     "name": "stdout",
     "output_type": "stream",
     "text": [
      "Total checked-out bookings: 94411\n"
     ]
    }
   ],
   "source": [
    "# Calculate the total number of checked-out bookings using the calculate() function\n",
    "total_checked_out_bookings = pd.Series(\n",
    "    df5[\"booking_status\"]).apply(\n",
    "        lambda x: True if x == \"Checked Out\" else False).sum()\n",
    "\n",
    "# Print the total number of checked-out bookings\n",
    "print(\"Total checked-out bookings:\", total_checked_out_bookings)\n",
    "\n"
   ]
  },
  {
   "cell_type": "code",
   "execution_count": 198,
   "metadata": {},
   "outputs": [
    {
     "name": "stdout",
     "output_type": "stream",
     "text": [
      "Total checked-out bookings: 94411\n"
     ]
    }
   ],
   "source": [
    "total_checked_out = df5.loc[df5['booking_status'] == 'Checked Out', 'booking_id'].count()\n",
    "print(\"Total checked-out bookings:\", total_checked_out)\n",
    "\n"
   ]
  },
  {
   "attachments": {},
   "cell_type": "markdown",
   "metadata": {},
   "source": [
    "#### \"To get the\"\"No Show\"\" bookings out of all Total bookings happened \n",
    "#### (\"\"No show\"\" means those customers who neither cancelled nor attend to their booked rooms)\"\n"
   ]
  },
  {
   "cell_type": "code",
   "execution_count": 199,
   "metadata": {},
   "outputs": [
    {
     "name": "stdout",
     "output_type": "stream",
     "text": [
      "Total No Show Bookings :  6759\n"
     ]
    }
   ],
   "source": [
    "# Total no show bookings = CALCULATE([Total Bookings],fact_bookings[booking_status]=\"No Show\")\n",
    "total_no_show_bookings = df5.loc[df5['booking_status'] == 'No Show', 'booking_id'].count()\n",
    "print(\"Total No Show Bookings : \", total_no_show_bookings)\n",
    "\n"
   ]
  },
  {
   "attachments": {},
   "cell_type": "markdown",
   "metadata": {},
   "source": [
    "#### calculating the no show percentage."
   ]
  },
  {
   "cell_type": "code",
   "execution_count": 200,
   "metadata": {},
   "outputs": [
    {
     "name": "stdout",
     "output_type": "stream",
     "text": [
      "No Show rate % :  5.02\n"
     ]
    }
   ],
   "source": [
    "# No Show rate % = DIVIDE([Total no show bookings],[Total Bookings])\n",
    "No_show_rate_perc = (total_no_show_bookings / total_bookings )* 100\n",
    "No_show_rate_perc = round(No_show_rate_perc,2)\n",
    "print(\"No Show rate % : \", No_show_rate_perc)"
   ]
  },
  {
   "attachments": {},
   "cell_type": "markdown",
   "metadata": {},
   "source": [
    "#### \"To show the percentage contribution of each booking platform for bookings in hotels.\n",
    "#### We have booking platforms like makeyourtrip, logtrip, tripster etc\"\n"
   ]
  },
  {
   "cell_type": "code",
   "execution_count": 201,
   "metadata": {},
   "outputs": [
    {
     "name": "stdout",
     "output_type": "stream",
     "text": [
      "Booking % by Platform: booking_platform\n",
      "direct offline     5.02\n",
      "direct online      9.94\n",
      "journey            6.02\n",
      "logtrip           10.96\n",
      "makeyourtrip      19.99\n",
      "others            40.91\n",
      "tripster           7.16\n",
      "Name: booking_id, dtype: float64\n"
     ]
    }
   ],
   "source": [
    "# \"Booking % by Platform = DIVIDE([Total Bookings],CALCULATE([Total Bookings], ALL(fact_bookings[booking_platform])))*100\"\n",
    "booking_by_platform = df5.groupby('booking_platform')['booking_id'].count()\n",
    "booking_pct_by_platform = (booking_by_platform / booking_by_platform.sum()) * 100\n",
    "booking_pct_by_platform = round(booking_pct_by_platform,2)\n",
    "print( \"Booking % by Platform:\", booking_pct_by_platform)\n"
   ]
  },
  {
   "attachments": {},
   "cell_type": "markdown",
   "metadata": {},
   "source": [
    "#### \"To show the percentage contribution of each room class over total rooms booked.\n",
    "#### We have room classes like Standard, Elite, Premium, Presidential.\"\n"
   ]
  },
  {
   "cell_type": "code",
   "execution_count": 202,
   "metadata": {},
   "outputs": [
    {
     "name": "stdout",
     "output_type": "stream",
     "text": [
      "room_class\n",
      "Elite           36.782079\n",
      "Premium         22.710454\n",
      "Presidential    11.942195\n",
      "Standard        28.565272\n",
      "Name: booking_id, dtype: float64\n"
     ]
    }
   ],
   "source": [
    "# Merge the two dataframes on the common key 'room_id'\n",
    "df_room = pd.merge(df5, df3, on='room_category')\n",
    "\n",
    "# Calculate the booking percentage by room class\n",
    "Booking_Percentage_by_Room_Class = (df_room.groupby('room_class')['booking_id'].count() / df_room['booking_id'].count()) * 100\n",
    "\n",
    "print(Booking_Percentage_by_Room_Class)"
   ]
  },
  {
   "attachments": {},
   "cell_type": "markdown",
   "metadata": {},
   "source": [
    "####  \"Calculate the ADR(Average Daily rate) It is the ratio of revenue to the total rooms booked/sold. \n",
    "#### It is the measure of the average paid for rooms sold in a given time period\"\n"
   ]
  },
  {
   "cell_type": "code",
   "execution_count": 203,
   "metadata": {},
   "outputs": [
    {
     "name": "stdout",
     "output_type": "stream",
     "text": [
      "Calculate the ADR(Average Daily rate):  16890.1\n"
     ]
    }
   ],
   "source": [
    "# ADR = DIVIDE( [Revenue], [Total Bookings],0)\n",
    "ADR = revenue_sum / df5[df5['booking_status'] != 'Cancelled']['booking_id'].count()\n",
    "ADR = round(ADR,2)\n",
    "print(\"Calculate the ADR(Average Daily rate): \", ADR)\n"
   ]
  },
  {
   "attachments": {},
   "cell_type": "markdown",
   "metadata": {},
   "source": [
    "#### 16. \"calculate  the realisation percentage. It is nothing but the succesful\n",
    "####  \"\"checked out\"\" percentage over all bookings happened.\n"
   ]
  },
  {
   "cell_type": "code",
   "execution_count": 204,
   "metadata": {},
   "outputs": [
    {
     "name": "stdout",
     "output_type": "stream",
     "text": [
      "-28.85\n"
     ]
    }
   ],
   "source": [
    "realization_percent = 1 - (Cancellation_perc + No_show_rate_perc)\n",
    "realization_percent = round(realization_percent,2)\n",
    "print(realization_percent)"
   ]
  },
  {
   "attachments": {},
   "cell_type": "markdown",
   "metadata": {},
   "source": [
    "### Calculate the RevPAR(Revenue Per Available Room)RevPAR represents the revenue generated per available room, whether or not they are occupied. RevPAR helps hotels measure their revenue generating performance to accurately price rooms. RevPAR can help hotels measure themselves against other properties or brands."
   ]
  },
  {
   "cell_type": "code",
   "execution_count": 205,
   "metadata": {},
   "outputs": [
    {
     "name": "stdout",
     "output_type": "stream",
     "text": [
      "     room_category    RevPAR\n",
      "0              RT1   7880.00\n",
      "1              RT1   8825.60\n",
      "2              RT1   7249.60\n",
      "3              RT1   6469.89\n",
      "4              RT1   8958.31\n",
      "...            ...       ...\n",
      "9195           RT4  19836.38\n",
      "9196           RT4  19836.38\n",
      "9197           RT4  13732.88\n",
      "9198           RT4  13732.88\n",
      "9199           RT4  20599.31\n",
      "\n",
      "[9200 rows x 2 columns]\n"
     ]
    }
   ],
   "source": [
    "# Calculate RevPAR for df4\n",
    "df4['occupancy_rate'] = df4['successful_bookings'] / df4['capacity']\n",
    "adr_map = df5.groupby('room_category')['revenue_generated'].mean()\n",
    "df4['ADR'] = df4['room_category'].map(adr_map)\n",
    "df4['RevPAR'] = df4['occupancy_rate'] * df4['ADR']\n",
    "df4['RevPAR'] = df4['RevPAR'].round(2)\n",
    "\n",
    "# Print RevPAR for each room category\n",
    "print(df4[['room_category', 'RevPAR']])\n"
   ]
  },
  {
   "cell_type": "code",
   "execution_count": 206,
   "metadata": {},
   "outputs": [
    {
     "data": {
      "text/html": [
       "<div>\n",
       "<style scoped>\n",
       "    .dataframe tbody tr th:only-of-type {\n",
       "        vertical-align: middle;\n",
       "    }\n",
       "\n",
       "    .dataframe tbody tr th {\n",
       "        vertical-align: top;\n",
       "    }\n",
       "\n",
       "    .dataframe thead th {\n",
       "        text-align: right;\n",
       "    }\n",
       "</style>\n",
       "<table border=\"1\" class=\"dataframe\">\n",
       "  <thead>\n",
       "    <tr style=\"text-align: right;\">\n",
       "      <th></th>\n",
       "      <th>property_id</th>\n",
       "      <th>check_in_date</th>\n",
       "      <th>room_category</th>\n",
       "      <th>successful_bookings</th>\n",
       "      <th>capacity</th>\n",
       "      <th>occupancy_rate</th>\n",
       "      <th>ADR</th>\n",
       "      <th>RevPAR</th>\n",
       "    </tr>\n",
       "  </thead>\n",
       "  <tbody>\n",
       "    <tr>\n",
       "      <th>0</th>\n",
       "      <td>16559</td>\n",
       "      <td>01-May-22</td>\n",
       "      <td>RT1</td>\n",
       "      <td>25</td>\n",
       "      <td>30</td>\n",
       "      <td>0.833333</td>\n",
       "      <td>9455.995292</td>\n",
       "      <td>7880.0</td>\n",
       "    </tr>\n",
       "    <tr>\n",
       "      <th>1</th>\n",
       "      <td>19562</td>\n",
       "      <td>01-May-22</td>\n",
       "      <td>RT1</td>\n",
       "      <td>28</td>\n",
       "      <td>30</td>\n",
       "      <td>0.933333</td>\n",
       "      <td>9455.995292</td>\n",
       "      <td>8825.6</td>\n",
       "    </tr>\n",
       "  </tbody>\n",
       "</table>\n",
       "</div>"
      ],
      "text/plain": [
       "   property_id check_in_date room_category  successful_bookings  capacity  \\\n",
       "0        16559     01-May-22           RT1                   25        30   \n",
       "1        19562     01-May-22           RT1                   28        30   \n",
       "\n",
       "   occupancy_rate          ADR  RevPAR  \n",
       "0        0.833333  9455.995292  7880.0  \n",
       "1        0.933333  9455.995292  8825.6  "
      ]
     },
     "execution_count": 206,
     "metadata": {},
     "output_type": "execute_result"
    }
   ],
   "source": [
    "df4.head(2)"
   ]
  },
  {
   "attachments": {},
   "cell_type": "markdown",
   "metadata": {},
   "source": [
    "#### \"calculate DBRN(Daily Booked Room Nights) This metrics tells on average how many rooms are booked for a day considering a time period"
   ]
  },
  {
   "cell_type": "code",
   "execution_count": 207,
   "metadata": {},
   "outputs": [
    {
     "name": "stdout",
     "output_type": "stream",
     "text": [
      "DBRN: 1462.93\n"
     ]
    }
   ],
   "source": [
    "# Convert date strings to datetime objects\n",
    "df1['date'] = pd.to_datetime(df1['date'], format='%d-%b-%y')\n",
    "df5['booking_date'] = pd.to_datetime(df5['booking_date'])\n",
    "\n",
    "# Calculate total bookings and number of days\n",
    "total_bookings = len(df5)\n",
    "num_days = (df1['date'].max() - df1['date'].min()).days + 1\n",
    "\n",
    "# Calculate DBRN\n",
    "DBRN = total_bookings / num_days\n",
    "\n",
    "# Round DBRN to 2 decimal places\n",
    "DBRN = round(DBRN, 2)\n",
    "\n",
    "# Print DBRN\n",
    "print(\"DBRN:\", DBRN)\n"
   ]
  },
  {
   "attachments": {},
   "cell_type": "markdown",
   "metadata": {},
   "source": [
    "#### \"calculate DSRN(Daily Sellable Room Nights) This metrics tells on average how many rooms are ready to sell for a day considering a time period\n"
   ]
  },
  {
   "cell_type": "code",
   "execution_count": 208,
   "metadata": {},
   "outputs": [
    {
     "data": {
      "text/plain": [
       "2528.0"
      ]
     },
     "execution_count": 208,
     "metadata": {},
     "output_type": "execute_result"
    }
   ],
   "source": [
    "# DSRN = DIVIDE([Total Capacity], [No of days])\n",
    "DSRN = df4['capacity'].sum() / num_days\n",
    "DSRN"
   ]
  },
  {
   "cell_type": "code",
   "execution_count": 209,
   "metadata": {},
   "outputs": [
    {
     "name": "stdout",
     "output_type": "stream",
     "text": [
      "DSRN: 2528.0\n"
     ]
    }
   ],
   "source": [
    "# Calculate the total capacity of the property\n",
    "total_capacity = df4['capacity'].sum()\n",
    "\n",
    "# Calculate the number of days in the time period\n",
    "no_of_days = df1['date'].nunique()\n",
    "\n",
    "# Calculate DSRN\n",
    "DSRN = total_capacity / no_of_days\n",
    "\n",
    "print(\"DSRN:\", DSRN)"
   ]
  },
  {
   "attachments": {},
   "cell_type": "markdown",
   "metadata": {},
   "source": [
    "### \"calculate DURN(Daily Utilized Room Nights) This metric tells on average how many rooms are succesfully utilized by customers for a day considering a time period"
   ]
  },
  {
   "cell_type": "code",
   "execution_count": 210,
   "metadata": {},
   "outputs": [
    {
     "data": {
      "text/html": [
       "<div>\n",
       "<style scoped>\n",
       "    .dataframe tbody tr th:only-of-type {\n",
       "        vertical-align: middle;\n",
       "    }\n",
       "\n",
       "    .dataframe tbody tr th {\n",
       "        vertical-align: top;\n",
       "    }\n",
       "\n",
       "    .dataframe thead th {\n",
       "        text-align: right;\n",
       "    }\n",
       "</style>\n",
       "<table border=\"1\" class=\"dataframe\">\n",
       "  <thead>\n",
       "    <tr style=\"text-align: right;\">\n",
       "      <th></th>\n",
       "      <th>booking_id</th>\n",
       "      <th>property_id</th>\n",
       "      <th>booking_date</th>\n",
       "      <th>check_in_date</th>\n",
       "      <th>checkout_date</th>\n",
       "      <th>no_guests</th>\n",
       "      <th>room_category</th>\n",
       "      <th>booking_platform</th>\n",
       "      <th>ratings_given</th>\n",
       "      <th>booking_status</th>\n",
       "      <th>revenue_generated</th>\n",
       "      <th>revenue_realized</th>\n",
       "    </tr>\n",
       "  </thead>\n",
       "  <tbody>\n",
       "    <tr>\n",
       "      <th>0</th>\n",
       "      <td>May012216558RT11</td>\n",
       "      <td>16558</td>\n",
       "      <td>2022-04-27</td>\n",
       "      <td>2022-05-01</td>\n",
       "      <td>2022-05-02</td>\n",
       "      <td>3</td>\n",
       "      <td>RT1</td>\n",
       "      <td>direct online</td>\n",
       "      <td>1.0</td>\n",
       "      <td>Checked Out</td>\n",
       "      <td>10010</td>\n",
       "      <td>10010</td>\n",
       "    </tr>\n",
       "    <tr>\n",
       "      <th>1</th>\n",
       "      <td>May012216558RT12</td>\n",
       "      <td>16558</td>\n",
       "      <td>2022-04-30</td>\n",
       "      <td>2022-05-01</td>\n",
       "      <td>2022-05-02</td>\n",
       "      <td>2</td>\n",
       "      <td>RT1</td>\n",
       "      <td>others</td>\n",
       "      <td>NaN</td>\n",
       "      <td>Cancelled</td>\n",
       "      <td>9100</td>\n",
       "      <td>3640</td>\n",
       "    </tr>\n",
       "  </tbody>\n",
       "</table>\n",
       "</div>"
      ],
      "text/plain": [
       "         booking_id  property_id booking_date check_in_date checkout_date  \\\n",
       "0  May012216558RT11        16558   2022-04-27    2022-05-01    2022-05-02   \n",
       "1  May012216558RT12        16558   2022-04-30    2022-05-01    2022-05-02   \n",
       "\n",
       "   no_guests room_category booking_platform  ratings_given booking_status  \\\n",
       "0          3           RT1    direct online            1.0    Checked Out   \n",
       "1          2           RT1           others            NaN      Cancelled   \n",
       "\n",
       "   revenue_generated  revenue_realized  \n",
       "0              10010             10010  \n",
       "1               9100              3640  "
      ]
     },
     "execution_count": 210,
     "metadata": {},
     "output_type": "execute_result"
    }
   ],
   "source": [
    "df5.head(2)\n"
   ]
  },
  {
   "cell_type": "code",
   "execution_count": 211,
   "metadata": {},
   "outputs": [
    {
     "data": {
      "text/html": [
       "<div>\n",
       "<style scoped>\n",
       "    .dataframe tbody tr th:only-of-type {\n",
       "        vertical-align: middle;\n",
       "    }\n",
       "\n",
       "    .dataframe tbody tr th {\n",
       "        vertical-align: top;\n",
       "    }\n",
       "\n",
       "    .dataframe thead th {\n",
       "        text-align: right;\n",
       "    }\n",
       "</style>\n",
       "<table border=\"1\" class=\"dataframe\">\n",
       "  <thead>\n",
       "    <tr style=\"text-align: right;\">\n",
       "      <th></th>\n",
       "      <th>date</th>\n",
       "      <th>mmm yy</th>\n",
       "      <th>week no</th>\n",
       "      <th>day_type</th>\n",
       "    </tr>\n",
       "  </thead>\n",
       "  <tbody>\n",
       "    <tr>\n",
       "      <th>0</th>\n",
       "      <td>2022-05-01</td>\n",
       "      <td>May 22</td>\n",
       "      <td>W 19</td>\n",
       "      <td>weekend</td>\n",
       "    </tr>\n",
       "    <tr>\n",
       "      <th>1</th>\n",
       "      <td>2022-05-02</td>\n",
       "      <td>May 22</td>\n",
       "      <td>W 19</td>\n",
       "      <td>weekeday</td>\n",
       "    </tr>\n",
       "  </tbody>\n",
       "</table>\n",
       "</div>"
      ],
      "text/plain": [
       "        date  mmm yy week no  day_type\n",
       "0 2022-05-01  May 22    W 19   weekend\n",
       "1 2022-05-02  May 22    W 19  weekeday"
      ]
     },
     "execution_count": 211,
     "metadata": {},
     "output_type": "execute_result"
    }
   ],
   "source": [
    "df1.head(2)"
   ]
  },
  {
   "cell_type": "code",
   "execution_count": 212,
   "metadata": {},
   "outputs": [
    {
     "name": "stdout",
     "output_type": "stream",
     "text": [
      "DURN :  813.89\n"
     ]
    }
   ],
   "source": [
    "# concatenate the two dataframes along the columns axis\n",
    "concatenated_df = pd.concat([df5, df1], axis=1)\n",
    "\n",
    "# calculate DURN\n",
    "total_checked_out = concatenated_df['booking_status'].str.count('Checked Out').sum()\n",
    "no_of_days = concatenated_df['booking_date'].nunique()\n",
    "DURN = total_checked_out / no_of_days\n",
    "DURN = round(DURN,2)\n",
    "print(\"DURN : \", DURN)\n"
   ]
  },
  {
   "attachments": {},
   "cell_type": "markdown",
   "metadata": {},
   "source": []
  },
  {
   "cell_type": "code",
   "execution_count": 213,
   "metadata": {},
   "outputs": [
    {
     "data": {
      "text/html": [
       "<div>\n",
       "<style scoped>\n",
       "    .dataframe tbody tr th:only-of-type {\n",
       "        vertical-align: middle;\n",
       "    }\n",
       "\n",
       "    .dataframe tbody tr th {\n",
       "        vertical-align: top;\n",
       "    }\n",
       "\n",
       "    .dataframe thead th {\n",
       "        text-align: right;\n",
       "    }\n",
       "</style>\n",
       "<table border=\"1\" class=\"dataframe\">\n",
       "  <thead>\n",
       "    <tr style=\"text-align: right;\">\n",
       "      <th></th>\n",
       "      <th>date</th>\n",
       "      <th>weekNumber</th>\n",
       "      <th>daytype</th>\n",
       "    </tr>\n",
       "  </thead>\n",
       "  <tbody>\n",
       "    <tr>\n",
       "      <th>0</th>\n",
       "      <td>2022-05-01</td>\n",
       "      <td>17</td>\n",
       "      <td>Weekend</td>\n",
       "    </tr>\n",
       "    <tr>\n",
       "      <th>1</th>\n",
       "      <td>2022-05-02</td>\n",
       "      <td>18</td>\n",
       "      <td>Weekend</td>\n",
       "    </tr>\n",
       "  </tbody>\n",
       "</table>\n",
       "</div>"
      ],
      "text/plain": [
       "         date  weekNumber  daytype\n",
       "0  2022-05-01          17  Weekend\n",
       "1  2022-05-02          18  Weekend"
      ]
     },
     "execution_count": 213,
     "metadata": {},
     "output_type": "execute_result"
    }
   ],
   "source": [
    "df1_1 = pd.read_csv('Dataset/EDA_Filter_Dataset/date_Atliq.csv')\n",
    "df1_1.head(2)"
   ]
  },
  {
   "attachments": {},
   "cell_type": "markdown",
   "metadata": {},
   "source": [
    "#### To get the revenue change percentage week over week.Here, revcw  for current week revpw for previous week"
   ]
  },
  {
   "cell_type": "code",
   "execution_count": 214,
   "metadata": {},
   "outputs": [],
   "source": [
    "# Merge the necessary columns from dim_date into fact_bookings\n",
    "df5 = pd.merge(df5, df1_1[['date', 'weekNumber']], left_on='check_in_date', right_on='date', how='left')\n",
    "\n",
    "# Calculate revenue WoW change percentage\n",
    "selv = df1_1['weekNumber'].max()  # Get the current week number\n",
    "revcw = df5[df5['weekNumber']==selv]['revenue_realized'].sum()  # Calculate revenue for the current week\n",
    "revpw = df5[df5['weekNumber']==(selv-1)]['revenue_realized'].sum()  # Calculate revenue for the previous week\n",
    "revenue_wow_change = (revcw / revpw) - 1  # Calculate WoW change percentage"
   ]
  },
  {
   "cell_type": "code",
   "execution_count": 215,
   "metadata": {},
   "outputs": [
    {
     "data": {
      "text/plain": [
       "0.0040359983507789465"
      ]
     },
     "execution_count": 215,
     "metadata": {},
     "output_type": "execute_result"
    }
   ],
   "source": [
    "revenue_wow_change"
   ]
  },
  {
   "cell_type": "code",
   "execution_count": 227,
   "metadata": {},
   "outputs": [
    {
     "name": "stdout",
     "output_type": "stream",
     "text": [
      "    property_id week no  revenue_generated  revenue_wow_change\n",
      "0         16558    W 19              66430                 NaN\n",
      "1         16558    W 20              63700           -4.109589\n",
      "2         16558    W 21              76930           20.769231\n",
      "3         16558    W 22              90720           17.925387\n",
      "4         16558    W 23              93240            2.777778\n",
      "5         16558    W 24             107100           14.864865\n",
      "6         16558    W 25             138880           29.673203\n",
      "7         16558    W 26              26600          -80.846774\n",
      "8         16559    W 26              68510          157.556391\n",
      "9         16559    W 27              77350           12.903226\n",
      "10        16559    W 28              80665            4.285714\n",
      "11        16559    W 29              89590           11.064278\n",
      "12        16559    W 30             113220           26.375712\n",
      "13        16559    W 31             111690           -1.351351\n",
      "14        16559    W 32              18360          -83.561644\n"
     ]
    }
   ],
   "source": [
    "# Step 1: Combine df5 and df1 using pd.concat\n",
    "df_concat = pd.concat([df5, df1[['date', 'week no']]], axis=1)\n",
    "\n",
    "# Step 2: Calculate revenue for each week\n",
    "revenue_by_week = df_concat.groupby(['property_id', 'week no'])['revenue_generated'].sum().reset_index()\n",
    "\n",
    "# Step 3: Calculate WoW change percentage\n",
    "revenue_by_week['revenue_wow_change'] = revenue_by_week['revenue_generated'].pct_change() * 100\n",
    "\n",
    "# Display revenue by week with WoW change percentage\n",
    "print(revenue_by_week)\n"
   ]
  },
  {
   "attachments": {},
   "cell_type": "markdown",
   "metadata": {},
   "source": [
    "#### To get the occupancy change percentage week over week.Here, revcw  for current weekrevpw for previous week"
   ]
  },
  {
   "cell_type": "code",
   "execution_count": 216,
   "metadata": {},
   "outputs": [
    {
     "data": {
      "text/html": [
       "<div>\n",
       "<style scoped>\n",
       "    .dataframe tbody tr th:only-of-type {\n",
       "        vertical-align: middle;\n",
       "    }\n",
       "\n",
       "    .dataframe tbody tr th {\n",
       "        vertical-align: top;\n",
       "    }\n",
       "\n",
       "    .dataframe thead th {\n",
       "        text-align: right;\n",
       "    }\n",
       "</style>\n",
       "<table border=\"1\" class=\"dataframe\">\n",
       "  <thead>\n",
       "    <tr style=\"text-align: right;\">\n",
       "      <th></th>\n",
       "      <th>property_id</th>\n",
       "      <th>check_in_date</th>\n",
       "      <th>room_category</th>\n",
       "      <th>successful_bookings</th>\n",
       "      <th>capacity</th>\n",
       "      <th>occupancy_rate</th>\n",
       "      <th>ADR</th>\n",
       "      <th>RevPAR</th>\n",
       "    </tr>\n",
       "  </thead>\n",
       "  <tbody>\n",
       "    <tr>\n",
       "      <th>0</th>\n",
       "      <td>16559</td>\n",
       "      <td>01-May-22</td>\n",
       "      <td>RT1</td>\n",
       "      <td>25</td>\n",
       "      <td>30</td>\n",
       "      <td>0.833333</td>\n",
       "      <td>9455.995292</td>\n",
       "      <td>7880.0</td>\n",
       "    </tr>\n",
       "    <tr>\n",
       "      <th>1</th>\n",
       "      <td>19562</td>\n",
       "      <td>01-May-22</td>\n",
       "      <td>RT1</td>\n",
       "      <td>28</td>\n",
       "      <td>30</td>\n",
       "      <td>0.933333</td>\n",
       "      <td>9455.995292</td>\n",
       "      <td>8825.6</td>\n",
       "    </tr>\n",
       "  </tbody>\n",
       "</table>\n",
       "</div>"
      ],
      "text/plain": [
       "   property_id check_in_date room_category  successful_bookings  capacity  \\\n",
       "0        16559     01-May-22           RT1                   25        30   \n",
       "1        19562     01-May-22           RT1                   28        30   \n",
       "\n",
       "   occupancy_rate          ADR  RevPAR  \n",
       "0        0.833333  9455.995292  7880.0  \n",
       "1        0.933333  9455.995292  8825.6  "
      ]
     },
     "execution_count": 216,
     "metadata": {},
     "output_type": "execute_result"
    }
   ],
   "source": [
    "df4.head(2)"
   ]
  },
  {
   "cell_type": "code",
   "execution_count": 223,
   "metadata": {},
   "outputs": [
    {
     "name": "stdout",
     "output_type": "stream",
     "text": [
      "     property_id week no  occupancy_rate  occupancy_wow_change\n",
      "0          16558    W 19        0.726447                   NaN\n",
      "1          16558    W 20        0.703506             -3.157957\n",
      "2          16558    W 21        0.579966            -17.560674\n",
      "3          16558    W 22        0.718479             23.883126\n",
      "4          16558    W 23        0.611863            -14.839112\n",
      "..           ...     ...             ...                   ...\n",
      "345        19563    W 28        0.589327              3.011313\n",
      "346        19563    W 29        0.581349             -1.353673\n",
      "347        19563    W 30        0.449576            -22.666824\n",
      "348        19563    W 31        0.480405              6.857404\n",
      "349        19563    W 32        0.586303             22.043409\n",
      "\n",
      "[350 rows x 4 columns]\n"
     ]
    }
   ],
   "source": [
    "# Step 1: Merge df4 and df1 on check_in_date and date columns respectively\n",
    "df = pd.merge(df4, df1[['date', 'week no']], how='left', left_on='check_in_date', right_on='date')\n",
    "\n",
    "# Step 2: Calculate occupancy rate for each week\n",
    "occupancy_by_week = df.groupby(['property_id', 'week no'])['occupancy_rate'].mean().reset_index()\n",
    "\n",
    "# Step 3: Calculate WoW change percentage\n",
    "occupancy_by_week['occupancy_wow_change'] = occupancy_by_week['occupancy_rate'].pct_change() * 100\n",
    "\n",
    "# Display occupancy by week with WoW change percentage\n",
    "print(occupancy_by_week)\n"
   ]
  },
  {
   "attachments": {},
   "cell_type": "markdown",
   "metadata": {},
   "source": [
    "#### To get the ADR(Average Daily rate) change percentage week over week.Here, revcw  for current weekrevpw for previous week"
   ]
  },
  {
   "cell_type": "code",
   "execution_count": 246,
   "metadata": {},
   "outputs": [],
   "source": [
    "def calculate_adr_wow_change(df):\n",
    "    df['adr_wow_change %'] = df.apply(lambda x: (\n",
    "        x['ADR'] / df.loc[(df['property_id'] == x['property_id']) & (df['week no'] == 'W '+str(int(x['week no'][2:])-1)), 'ADR'].values[0] - 1\n",
    "    ) * 100 if 'W '+str(int(x['week no'][2:])-1) in df.loc[df['property_id'] == x['property_id'], 'week no'].tolist() else np.nan, axis=1)\n",
    "    return df\n"
   ]
  },
  {
   "cell_type": "code",
   "execution_count": 247,
   "metadata": {},
   "outputs": [
    {
     "data": {
      "text/html": [
       "<div>\n",
       "<style scoped>\n",
       "    .dataframe tbody tr th:only-of-type {\n",
       "        vertical-align: middle;\n",
       "    }\n",
       "\n",
       "    .dataframe tbody tr th {\n",
       "        vertical-align: top;\n",
       "    }\n",
       "\n",
       "    .dataframe thead th {\n",
       "        text-align: right;\n",
       "    }\n",
       "</style>\n",
       "<table border=\"1\" class=\"dataframe\">\n",
       "  <thead>\n",
       "    <tr style=\"text-align: right;\">\n",
       "      <th></th>\n",
       "      <th>property_id</th>\n",
       "      <th>check_in_date</th>\n",
       "      <th>room_category</th>\n",
       "      <th>successful_bookings</th>\n",
       "      <th>capacity</th>\n",
       "      <th>occupancy_rate</th>\n",
       "      <th>ADR</th>\n",
       "      <th>RevPAR</th>\n",
       "      <th>date</th>\n",
       "      <th>week no</th>\n",
       "      <th>adr_wow_change %</th>\n",
       "    </tr>\n",
       "  </thead>\n",
       "  <tbody>\n",
       "    <tr>\n",
       "      <th>0</th>\n",
       "      <td>16559</td>\n",
       "      <td>2022-05-01</td>\n",
       "      <td>RT1</td>\n",
       "      <td>25</td>\n",
       "      <td>30</td>\n",
       "      <td>0.833333</td>\n",
       "      <td>9455.995292</td>\n",
       "      <td>7880.00</td>\n",
       "      <td>2022-05-01</td>\n",
       "      <td>W 19</td>\n",
       "      <td>NaN</td>\n",
       "    </tr>\n",
       "    <tr>\n",
       "      <th>1</th>\n",
       "      <td>19562</td>\n",
       "      <td>2022-05-01</td>\n",
       "      <td>RT1</td>\n",
       "      <td>28</td>\n",
       "      <td>30</td>\n",
       "      <td>0.933333</td>\n",
       "      <td>9455.995292</td>\n",
       "      <td>8825.60</td>\n",
       "      <td>2022-05-01</td>\n",
       "      <td>W 19</td>\n",
       "      <td>NaN</td>\n",
       "    </tr>\n",
       "    <tr>\n",
       "      <th>2</th>\n",
       "      <td>19563</td>\n",
       "      <td>2022-05-01</td>\n",
       "      <td>RT1</td>\n",
       "      <td>23</td>\n",
       "      <td>30</td>\n",
       "      <td>0.766667</td>\n",
       "      <td>9455.995292</td>\n",
       "      <td>7249.60</td>\n",
       "      <td>2022-05-01</td>\n",
       "      <td>W 19</td>\n",
       "      <td>NaN</td>\n",
       "    </tr>\n",
       "    <tr>\n",
       "      <th>3</th>\n",
       "      <td>17558</td>\n",
       "      <td>2022-05-01</td>\n",
       "      <td>RT1</td>\n",
       "      <td>13</td>\n",
       "      <td>19</td>\n",
       "      <td>0.684211</td>\n",
       "      <td>9455.995292</td>\n",
       "      <td>6469.89</td>\n",
       "      <td>2022-05-01</td>\n",
       "      <td>W 19</td>\n",
       "      <td>NaN</td>\n",
       "    </tr>\n",
       "    <tr>\n",
       "      <th>4</th>\n",
       "      <td>16558</td>\n",
       "      <td>2022-05-01</td>\n",
       "      <td>RT1</td>\n",
       "      <td>18</td>\n",
       "      <td>19</td>\n",
       "      <td>0.947368</td>\n",
       "      <td>9455.995292</td>\n",
       "      <td>8958.31</td>\n",
       "      <td>2022-05-01</td>\n",
       "      <td>W 19</td>\n",
       "      <td>NaN</td>\n",
       "    </tr>\n",
       "    <tr>\n",
       "      <th>...</th>\n",
       "      <td>...</td>\n",
       "      <td>...</td>\n",
       "      <td>...</td>\n",
       "      <td>...</td>\n",
       "      <td>...</td>\n",
       "      <td>...</td>\n",
       "      <td>...</td>\n",
       "      <td>...</td>\n",
       "      <td>...</td>\n",
       "      <td>...</td>\n",
       "      <td>...</td>\n",
       "    </tr>\n",
       "    <tr>\n",
       "      <th>9195</th>\n",
       "      <td>16563</td>\n",
       "      <td>2022-07-31</td>\n",
       "      <td>RT4</td>\n",
       "      <td>13</td>\n",
       "      <td>18</td>\n",
       "      <td>0.722222</td>\n",
       "      <td>27465.751260</td>\n",
       "      <td>19836.38</td>\n",
       "      <td>2022-07-31</td>\n",
       "      <td>W 32</td>\n",
       "      <td>190.458597</td>\n",
       "    </tr>\n",
       "    <tr>\n",
       "      <th>9196</th>\n",
       "      <td>16559</td>\n",
       "      <td>2022-07-31</td>\n",
       "      <td>RT4</td>\n",
       "      <td>13</td>\n",
       "      <td>18</td>\n",
       "      <td>0.722222</td>\n",
       "      <td>27465.751260</td>\n",
       "      <td>19836.38</td>\n",
       "      <td>2022-07-31</td>\n",
       "      <td>W 32</td>\n",
       "      <td>190.458597</td>\n",
       "    </tr>\n",
       "    <tr>\n",
       "      <th>9197</th>\n",
       "      <td>17558</td>\n",
       "      <td>2022-07-31</td>\n",
       "      <td>RT4</td>\n",
       "      <td>3</td>\n",
       "      <td>6</td>\n",
       "      <td>0.500000</td>\n",
       "      <td>27465.751260</td>\n",
       "      <td>13732.88</td>\n",
       "      <td>2022-07-31</td>\n",
       "      <td>W 32</td>\n",
       "      <td>190.458597</td>\n",
       "    </tr>\n",
       "    <tr>\n",
       "      <th>9198</th>\n",
       "      <td>19563</td>\n",
       "      <td>2022-07-31</td>\n",
       "      <td>RT4</td>\n",
       "      <td>3</td>\n",
       "      <td>6</td>\n",
       "      <td>0.500000</td>\n",
       "      <td>27465.751260</td>\n",
       "      <td>13732.88</td>\n",
       "      <td>2022-07-31</td>\n",
       "      <td>W 32</td>\n",
       "      <td>190.458597</td>\n",
       "    </tr>\n",
       "    <tr>\n",
       "      <th>9199</th>\n",
       "      <td>17561</td>\n",
       "      <td>2022-07-31</td>\n",
       "      <td>RT4</td>\n",
       "      <td>3</td>\n",
       "      <td>4</td>\n",
       "      <td>0.750000</td>\n",
       "      <td>27465.751260</td>\n",
       "      <td>20599.31</td>\n",
       "      <td>2022-07-31</td>\n",
       "      <td>W 32</td>\n",
       "      <td>190.458597</td>\n",
       "    </tr>\n",
       "  </tbody>\n",
       "</table>\n",
       "<p>9200 rows × 11 columns</p>\n",
       "</div>"
      ],
      "text/plain": [
       "      property_id check_in_date room_category  successful_bookings  capacity  \\\n",
       "0           16559    2022-05-01           RT1                   25        30   \n",
       "1           19562    2022-05-01           RT1                   28        30   \n",
       "2           19563    2022-05-01           RT1                   23        30   \n",
       "3           17558    2022-05-01           RT1                   13        19   \n",
       "4           16558    2022-05-01           RT1                   18        19   \n",
       "...           ...           ...           ...                  ...       ...   \n",
       "9195        16563    2022-07-31           RT4                   13        18   \n",
       "9196        16559    2022-07-31           RT4                   13        18   \n",
       "9197        17558    2022-07-31           RT4                    3         6   \n",
       "9198        19563    2022-07-31           RT4                    3         6   \n",
       "9199        17561    2022-07-31           RT4                    3         4   \n",
       "\n",
       "      occupancy_rate           ADR    RevPAR       date week no  \\\n",
       "0           0.833333   9455.995292   7880.00 2022-05-01    W 19   \n",
       "1           0.933333   9455.995292   8825.60 2022-05-01    W 19   \n",
       "2           0.766667   9455.995292   7249.60 2022-05-01    W 19   \n",
       "3           0.684211   9455.995292   6469.89 2022-05-01    W 19   \n",
       "4           0.947368   9455.995292   8958.31 2022-05-01    W 19   \n",
       "...              ...           ...       ...        ...     ...   \n",
       "9195        0.722222  27465.751260  19836.38 2022-07-31    W 32   \n",
       "9196        0.722222  27465.751260  19836.38 2022-07-31    W 32   \n",
       "9197        0.500000  27465.751260  13732.88 2022-07-31    W 32   \n",
       "9198        0.500000  27465.751260  13732.88 2022-07-31    W 32   \n",
       "9199        0.750000  27465.751260  20599.31 2022-07-31    W 32   \n",
       "\n",
       "      adr_wow_change %  \n",
       "0                  NaN  \n",
       "1                  NaN  \n",
       "2                  NaN  \n",
       "3                  NaN  \n",
       "4                  NaN  \n",
       "...                ...  \n",
       "9195        190.458597  \n",
       "9196        190.458597  \n",
       "9197        190.458597  \n",
       "9198        190.458597  \n",
       "9199        190.458597  \n",
       "\n",
       "[9200 rows x 11 columns]"
      ]
     },
     "execution_count": 247,
     "metadata": {},
     "output_type": "execute_result"
    }
   ],
   "source": [
    "new_df = calculate_adr_wow_change(df)\n",
    "new_df"
   ]
  },
  {
   "cell_type": "code",
   "execution_count": null,
   "metadata": {},
   "outputs": [],
   "source": []
  }
 ],
 "metadata": {
  "kernelspec": {
   "display_name": "Python 3",
   "language": "python",
   "name": "python3"
  },
  "language_info": {
   "codemirror_mode": {
    "name": "ipython",
    "version": 3
   },
   "file_extension": ".py",
   "mimetype": "text/x-python",
   "name": "python",
   "nbconvert_exporter": "python",
   "pygments_lexer": "ipython3",
   "version": "3.9.16"
  },
  "orig_nbformat": 4
 },
 "nbformat": 4,
 "nbformat_minor": 2
}
