{
 "cells": [
  {
   "cell_type": "code",
   "execution_count": 42,
   "metadata": {},
   "outputs": [],
   "source": [
    "import pandas as pd"
   ]
  },
  {
   "cell_type": "code",
   "execution_count": 43,
   "metadata": {},
   "outputs": [],
   "source": [
    "# datasets\n",
    "df1 = pd.read_csv('/home/shrihith-a/Documents/Code_Basics/1_Hospitality_domain/Dataset/dim_date.csv')\n",
    "df2 = pd.read_csv('/home/shrihith-a/Documents/Code_Basics/1_Hospitality_domain/Dataset/dim_hotels.csv')\n",
    "df3 = pd.read_csv('/home/shrihith-a/Documents/Code_Basics/1_Hospitality_domain/Dataset/dim_rooms.csv')\n",
    "df4 = pd.read_csv('/home/shrihith-a/Documents/Code_Basics/1_Hospitality_domain/Dataset/fact_aggregated_bookings.csv')\n",
    "df5 = pd.read_csv('/home/shrihith-a/Documents/Code_Basics/1_Hospitality_domain/Dataset/fact_bookings.csv')\n"
   ]
  },
  {
   "attachments": {},
   "cell_type": "markdown",
   "metadata": {},
   "source": [
    "#### To get the total revenue_realized"
   ]
  },
  {
   "cell_type": "code",
   "execution_count": 44,
   "metadata": {},
   "outputs": [
    {
     "data": {
      "text/plain": [
       "1708771229"
      ]
     },
     "execution_count": 44,
     "metadata": {},
     "output_type": "execute_result"
    }
   ],
   "source": [
    "# calculate the sum of the revenue_realized column\n",
    "revenue_sum = df5['revenue_realized'].sum()\n",
    "revenue_sum"
   ]
  },
  {
   "cell_type": "code",
   "execution_count": 45,
   "metadata": {},
   "outputs": [
    {
     "name": "stdout",
     "output_type": "stream",
     "text": [
      "one crore, seventy lakh, eighty-seven thousand, seven hundred and twelve euro, twenty-nine cents\n"
     ]
    }
   ],
   "source": [
    "from num2words import num2words\n",
    "\n",
    "amount = 1708771229\n",
    "amount_in_words = num2words(amount, to='currency', lang='en_IN')\n",
    "\n",
    "print(amount_in_words)"
   ]
  },
  {
   "attachments": {},
   "cell_type": "markdown",
   "metadata": {},
   "source": [
    "### To get the total number of bookings happened"
   ]
  },
  {
   "cell_type": "code",
   "execution_count": 46,
   "metadata": {},
   "outputs": [
    {
     "name": "stdout",
     "output_type": "stream",
     "text": [
      "Total Bookings: 134590\n"
     ]
    }
   ],
   "source": [
    "# Count the number of unique booking IDs\n",
    "total_bookings = df5[\"booking_id\"].nunique()\n",
    "\n",
    "# Print the total number of bookings\n",
    "print(\"Total Bookings:\", total_bookings)"
   ]
  },
  {
   "attachments": {},
   "cell_type": "markdown",
   "metadata": {},
   "source": [
    "### To get the total capacity of rooms present in hotels"
   ]
  },
  {
   "cell_type": "code",
   "execution_count": 47,
   "metadata": {},
   "outputs": [
    {
     "name": "stdout",
     "output_type": "stream",
     "text": [
      "Total Capacity: 232576\n"
     ]
    }
   ],
   "source": [
    "# Sum up the capacity column\n",
    "total_capacity = df4[\"capacity\"].sum()\n",
    "\n",
    "# Print the total capacity\n",
    "print(\"Total Capacity:\", total_capacity)"
   ]
  },
  {
   "attachments": {},
   "cell_type": "markdown",
   "metadata": {},
   "source": [
    "### To get the total succesful bookings happened for all hotels"
   ]
  },
  {
   "cell_type": "code",
   "execution_count": 48,
   "metadata": {},
   "outputs": [
    {
     "name": "stdout",
     "output_type": "stream",
     "text": [
      "Total Successful Bookings: 134590\n"
     ]
    }
   ],
   "source": [
    "total_successful_bookings = df4[\"successful_bookings\"].sum()\n",
    "\n",
    "# Print the total successful bookings\n",
    "print(\"Total Successful Bookings:\", total_successful_bookings)"
   ]
  },
  {
   "attachments": {},
   "cell_type": "markdown",
   "metadata": {},
   "source": [
    "### Occupancy means total successful bookings happened to the total rooms available(capacity)"
   ]
  },
  {
   "cell_type": "code",
   "execution_count": 49,
   "metadata": {},
   "outputs": [
    {
     "name": "stdout",
     "output_type": "stream",
     "text": [
      "Occupancy %: 57.87 %\n"
     ]
    }
   ],
   "source": [
    "# Calculate the occupancy percentage\n",
    "occupancy_percentage = total_successful_bookings / total_capacity * 100\n",
    "\n",
    "# Round off the occupancy percentage to 2 decimal places\n",
    "occupancy_percentage = round(occupancy_percentage, 2)\n",
    "\n",
    "# Print the occupancy percentage\n",
    "print(\"Occupancy %:\", occupancy_percentage, \"%\")"
   ]
  },
  {
   "attachments": {},
   "cell_type": "markdown",
   "metadata": {},
   "source": [
    "### Get the average ratings given by the customers"
   ]
  },
  {
   "cell_type": "code",
   "execution_count": 50,
   "metadata": {},
   "outputs": [
    {
     "name": "stdout",
     "output_type": "stream",
     "text": [
      "Average Rating :  3.62\n"
     ]
    }
   ],
   "source": [
    "# Average Rating = AVERAGE(fact_bookings[ratings_given])\n",
    "\n",
    "average_rating  = df5['ratings_given'].mean()\n",
    "\n",
    "average_rating = round(average_rating,2)\n",
    "\n",
    "# print average ratings\n",
    "print(\"Average Rating : \", average_rating)\n",
    "\n"
   ]
  },
  {
   "attachments": {},
   "cell_type": "markdown",
   "metadata": {},
   "source": [
    "#### To get the total number of days present in the data.In our case, we have data from May to July. So 92 days.\n"
   ]
  },
  {
   "cell_type": "code",
   "execution_count": 51,
   "metadata": {},
   "outputs": [
    {
     "name": "stdout",
     "output_type": "stream",
     "text": [
      "No of days: 92\n"
     ]
    }
   ],
   "source": [
    "# Convert the \"date\" column to datetime\n",
    "df1[\"date\"] = pd.to_datetime(df1[\"date\"])\n",
    "\n",
    "# Calculate the minimum and maximum dates present in the data\n",
    "min_date = df1[\"date\"].min()\n",
    "max_date = df1[\"date\"].max()\n",
    "\n",
    "# Calculate the number of days between the minimum and maximum dates\n",
    "no_of_days = (max_date - min_date).days + 1\n",
    "\n",
    "# Print the number of days\n",
    "print(\"No of days:\", no_of_days)"
   ]
  },
  {
   "attachments": {},
   "cell_type": "markdown",
   "metadata": {},
   "source": [
    "#### To get the\"Cancelled\" bookings out of all Total bookings happened"
   ]
  },
  {
   "cell_type": "code",
   "execution_count": 52,
   "metadata": {},
   "outputs": [
    {
     "name": "stdout",
     "output_type": "stream",
     "text": [
      "Total cancelled bookings: 33420\n"
     ]
    }
   ],
   "source": [
    "\n",
    "# Calculate the total number of cancelled bookings\n",
    "total_cancelled_bookings = df5[df5[\"booking_status\"] == \"Cancelled\"][\"booking_id\"].count()\n",
    "\n",
    "# Print the total number of cancelled bookings\n",
    "print(\"Total cancelled bookings:\", total_cancelled_bookings)"
   ]
  },
  {
   "attachments": {},
   "cell_type": "markdown",
   "metadata": {},
   "source": [
    "#### \"calculating the cancellaton percentage.\""
   ]
  },
  {
   "cell_type": "code",
   "execution_count": 53,
   "metadata": {},
   "outputs": [
    {
     "name": "stdout",
     "output_type": "stream",
     "text": [
      "Cancelleation % :  24.83\n"
     ]
    }
   ],
   "source": [
    "Cancellation_perc = total_cancelled_bookings / total_bookings * 100\n",
    "Cancellation_perc = round(Cancellation_perc, 2)\n",
    "\n",
    "print(\"Cancelleation % : \", Cancellation_perc)"
   ]
  },
  {
   "attachments": {},
   "cell_type": "markdown",
   "metadata": {},
   "source": [
    "#### To get the successful 'Checked out' bookings out of all Total bookings happened"
   ]
  },
  {
   "cell_type": "code",
   "execution_count": 54,
   "metadata": {},
   "outputs": [
    {
     "name": "stdout",
     "output_type": "stream",
     "text": [
      "Total checked-out bookings: 94411\n"
     ]
    }
   ],
   "source": [
    "# Calculate the total number of checked-out bookings using the calculate() function\n",
    "total_checked_out_bookings = pd.Series(\n",
    "    df5[\"booking_status\"]).apply(\n",
    "        lambda x: True if x == \"Checked Out\" else False).sum()\n",
    "\n",
    "# Print the total number of checked-out bookings\n",
    "print(\"Total checked-out bookings:\", total_checked_out_bookings)\n",
    "\n"
   ]
  },
  {
   "cell_type": "code",
   "execution_count": 55,
   "metadata": {},
   "outputs": [
    {
     "name": "stdout",
     "output_type": "stream",
     "text": [
      "Total checked-out bookings: 94411\n"
     ]
    }
   ],
   "source": [
    "total_checked_out = df5.loc[df5['booking_status'] == 'Checked Out', 'booking_id'].count()\n",
    "print(\"Total checked-out bookings:\", total_checked_out)\n",
    "\n"
   ]
  },
  {
   "attachments": {},
   "cell_type": "markdown",
   "metadata": {},
   "source": [
    "#### \"To get the\"\"No Show\"\" bookings out of all Total bookings happened \n",
    "#### (\"\"No show\"\" means those customers who neither cancelled nor attend to their booked rooms)\"\n"
   ]
  },
  {
   "cell_type": "code",
   "execution_count": 56,
   "metadata": {},
   "outputs": [
    {
     "name": "stdout",
     "output_type": "stream",
     "text": [
      "Total No Show Bookings :  6759\n"
     ]
    }
   ],
   "source": [
    "# Total no show bookings = CALCULATE([Total Bookings],fact_bookings[booking_status]=\"No Show\")\n",
    "total_no_show_bookings = df5.loc[df5['booking_status'] == 'No Show', 'booking_id'].count()\n",
    "print(\"Total No Show Bookings : \", total_no_show_bookings)\n",
    "\n"
   ]
  },
  {
   "attachments": {},
   "cell_type": "markdown",
   "metadata": {},
   "source": [
    "#### calculating the no show percentage."
   ]
  },
  {
   "cell_type": "code",
   "execution_count": 57,
   "metadata": {},
   "outputs": [
    {
     "name": "stdout",
     "output_type": "stream",
     "text": [
      "No Show rate % :  5.02\n"
     ]
    }
   ],
   "source": [
    "# No Show rate % = DIVIDE([Total no show bookings],[Total Bookings])\n",
    "No_show_rate_perc = (total_no_show_bookings / total_bookings )* 100\n",
    "No_show_rate_perc = round(No_show_rate_perc,2)\n",
    "print(\"No Show rate % : \", No_show_rate_perc)"
   ]
  },
  {
   "attachments": {},
   "cell_type": "markdown",
   "metadata": {},
   "source": [
    "#### \"To show the percentage contribution of each booking platform for bookings in hotels.\n",
    "#### We have booking platforms like makeyourtrip, logtrip, tripster etc\"\n"
   ]
  },
  {
   "cell_type": "code",
   "execution_count": 58,
   "metadata": {},
   "outputs": [
    {
     "name": "stdout",
     "output_type": "stream",
     "text": [
      "Booking % by Platform: booking_platform\n",
      "direct offline     5.02\n",
      "direct online      9.94\n",
      "journey            6.02\n",
      "logtrip           10.96\n",
      "makeyourtrip      19.99\n",
      "others            40.91\n",
      "tripster           7.16\n",
      "Name: booking_id, dtype: float64\n"
     ]
    }
   ],
   "source": [
    "# \"Booking % by Platform = DIVIDE([Total Bookings],CALCULATE([Total Bookings], ALL(fact_bookings[booking_platform])))*100\"\n",
    "booking_by_platform = df5.groupby('booking_platform')['booking_id'].count()\n",
    "booking_pct_by_platform = (booking_by_platform / booking_by_platform.sum()) * 100\n",
    "booking_pct_by_platform = round(booking_pct_by_platform,2)\n",
    "print( \"Booking % by Platform:\", booking_pct_by_platform)\n"
   ]
  },
  {
   "attachments": {},
   "cell_type": "markdown",
   "metadata": {},
   "source": [
    "#### \"To show the percentage contribution of each room class over total rooms booked.\n",
    "#### We have room classes like Standard, Elite, Premium, Presidential.\"\n"
   ]
  },
  {
   "cell_type": "code",
   "execution_count": 62,
   "metadata": {},
   "outputs": [
    {
     "name": "stdout",
     "output_type": "stream",
     "text": [
      "room_class\n",
      "Elite           36.782079\n",
      "Premium         22.710454\n",
      "Presidential    11.942195\n",
      "Standard        28.565272\n",
      "Name: booking_id, dtype: float64\n"
     ]
    }
   ],
   "source": [
    "# Merge the two dataframes on the common key 'room_id'\n",
    "df_room = pd.merge(df5, df3, on='room_category')\n",
    "\n",
    "# Calculate the booking percentage by room class\n",
    "Booking_Percentage_by_Room_Class = (df_room.groupby('room_class')['booking_id'].count() / df_room['booking_id'].count()) * 100\n",
    "\n",
    "print(Booking_Percentage_by_Room_Class)"
   ]
  },
  {
   "attachments": {},
   "cell_type": "markdown",
   "metadata": {},
   "source": [
    "####  \"Calculate the ADR(Average Daily rate) It is the ratio of revenue to the total rooms booked/sold. \n",
    "#### It is the measure of the average paid for rooms sold in a given time period\"\n"
   ]
  },
  {
   "cell_type": "code",
   "execution_count": 66,
   "metadata": {},
   "outputs": [
    {
     "name": "stdout",
     "output_type": "stream",
     "text": [
      "Calculate the ADR(Average Daily rate):  16890.1\n"
     ]
    }
   ],
   "source": [
    "# ADR = DIVIDE( [Revenue], [Total Bookings],0)\n",
    "ADR = revenue_sum / df5[df5['booking_status'] != 'Cancelled']['booking_id'].count()\n",
    "ADR = round(ADR,2)\n",
    "print(\"Calculate the ADR(Average Daily rate): \", ADR)\n"
   ]
  },
  {
   "attachments": {},
   "cell_type": "markdown",
   "metadata": {},
   "source": [
    "#### 16. \"calculate  the realisation percentage. It is nothing but the succesful\n",
    "####  \"\"checked out\"\" percentage over all bookings happened.\n"
   ]
  },
  {
   "cell_type": "code",
   "execution_count": 74,
   "metadata": {},
   "outputs": [
    {
     "name": "stdout",
     "output_type": "stream",
     "text": [
      "-28.85\n"
     ]
    }
   ],
   "source": [
    "realization_percent = 1 - (Cancellation_perc + No_show_rate_perc)\n",
    "realization_percent = round(realization_percent,2)\n",
    "print(realization_percent)"
   ]
  },
  {
   "cell_type": "code",
   "execution_count": null,
   "metadata": {},
   "outputs": [],
   "source": []
  }
 ],
 "metadata": {
  "kernelspec": {
   "display_name": "Python 3",
   "language": "python",
   "name": "python3"
  },
  "language_info": {
   "codemirror_mode": {
    "name": "ipython",
    "version": 3
   },
   "file_extension": ".py",
   "mimetype": "text/x-python",
   "name": "python",
   "nbconvert_exporter": "python",
   "pygments_lexer": "ipython3",
   "version": "3.9.0"
  },
  "orig_nbformat": 4
 },
 "nbformat": 4,
 "nbformat_minor": 2
}
