{
 "cells": [
  {
   "cell_type": "code",
   "execution_count": 1,
   "metadata": {},
   "outputs": [],
   "source": [
    "import pandas as pd\n",
    "import numpy as np\n",
    "import os"
   ]
  },
  {
   "cell_type": "code",
   "execution_count": null,
   "metadata": {},
   "outputs": [],
   "source": [
    "# datasets\n",
    "df1 = pd.read_csv('Dataset/dim_date.csv')\n",
    "df2 = pd.read_csv('Dataset/dim_hotels.csv')\n",
    "df3 = pd.read_csv('Dataset/dim_rooms.csv')\n",
    "df4 = pd.read_csv('Dataset/fact_aggregated_bookings.csv')\n",
    "df5 = pd.read_csv('Dataset/fact_bookings.csv')"
   ]
  },
  {
   "cell_type": "code",
   "execution_count": 3,
   "metadata": {},
   "outputs": [
    {
     "name": "stdout",
     "output_type": "stream",
     "text": [
      "EDA_Filter_Dataset\n",
      "dim_date.csv\n",
      "dim_hotels.csv\n",
      "dim_rooms.csv\n",
      "fact_aggregated_bookings.csv\n",
      "fact_bookings.csv\n",
      "meta_data_hospitality.txt\n",
      "metrics list.xlsx\n",
      "mock up dashboard_atliq grands.png\n"
     ]
    }
   ],
   "source": [
    "path_dir = './Dataset/'\n",
    "for files in os.listdir(path_dir):\n",
    "    print(files)"
   ]
  }
 ],
 "metadata": {
  "kernelspec": {
   "display_name": "Python 3",
   "language": "python",
   "name": "python3"
  },
  "language_info": {
   "codemirror_mode": {
    "name": "ipython",
    "version": 3
   },
   "file_extension": ".py",
   "mimetype": "text/x-python",
   "name": "python",
   "nbconvert_exporter": "python",
   "pygments_lexer": "ipython3",
   "version": "3.9.16"
  },
  "orig_nbformat": 4
 },
 "nbformat": 4,
 "nbformat_minor": 2
}
